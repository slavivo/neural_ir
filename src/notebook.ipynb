{
 "cells": [
  {
   "cell_type": "markdown",
   "metadata": {},
   "source": [
    "# Neural information retrieval"
   ]
  },
  {
   "cell_type": "code",
   "execution_count": 5,
   "metadata": {},
   "outputs": [],
   "source": [
    "import numpy as np\n",
    "import pandas as pd \n",
    "import matplotlib.pyplot as plt             \n",
    "import seaborn as sns\n",
    "import torch\n",
    "from sentence_transformers import SentenceTransformer\n",
    "from sentence_transformers.util import cos_sim"
   ]
  },
  {
   "cell_type": "markdown",
   "metadata": {},
   "source": [
    "## EDA"
   ]
  },
  {
   "cell_type": "code",
   "execution_count": 2,
   "metadata": {},
   "outputs": [],
   "source": [
    "chairs_df = pd.read_csv('../data/kancelarska-kresla.heureka.cz.csv')"
   ]
  },
  {
   "cell_type": "code",
   "execution_count": 3,
   "metadata": {},
   "outputs": [
    {
     "data": {
      "text/html": [
       "<div>\n",
       "<style scoped>\n",
       "    .dataframe tbody tr th:only-of-type {\n",
       "        vertical-align: middle;\n",
       "    }\n",
       "\n",
       "    .dataframe tbody tr th {\n",
       "        vertical-align: top;\n",
       "    }\n",
       "\n",
       "    .dataframe thead th {\n",
       "        text-align: right;\n",
       "    }\n",
       "</style>\n",
       "<table border=\"1\" class=\"dataframe\">\n",
       "  <thead>\n",
       "    <tr style=\"text-align: right;\">\n",
       "      <th></th>\n",
       "      <th>name</th>\n",
       "      <th>categories</th>\n",
       "      <th>price</th>\n",
       "      <th>rating</th>\n",
       "      <th>specification</th>\n",
       "    </tr>\n",
       "  </thead>\n",
       "  <tbody>\n",
       "    <tr>\n",
       "      <th>320</th>\n",
       "      <td>Alba Kent Exclusive</td>\n",
       "      <td>['Bydlení a doplňky', 'Nábytek', 'Židle a stol...</td>\n",
       "      <td>8763</td>\n",
       "      <td>100.0</td>\n",
       "      <td>Elegantní křeslo do kanceláře v základním prov...</td>\n",
       "    </tr>\n",
       "    <tr>\n",
       "      <th>50</th>\n",
       "      <td>Antares Scope</td>\n",
       "      <td>['Bydlení a doplňky', 'Nábytek', 'Židle a stol...</td>\n",
       "      <td>5990</td>\n",
       "      <td>100.0</td>\n",
       "      <td>\\n\\tDesignová židle s opěrkou hlavy a područka...</td>\n",
       "    </tr>\n",
       "    <tr>\n",
       "      <th>774</th>\n",
       "      <td>Corping Human</td>\n",
       "      <td>['Bydlení a doplňky', 'Nábytek', 'Židle a stol...</td>\n",
       "      <td>4299</td>\n",
       "      <td>90.0</td>\n",
       "      <td></td>\n",
       "    </tr>\n",
       "    <tr>\n",
       "      <th>263</th>\n",
       "      <td>SEDIA Q031</td>\n",
       "      <td>['Bydlení a doplňky', 'Nábytek', 'Židle a stol...</td>\n",
       "      <td>3890</td>\n",
       "      <td>94.0</td>\n",
       "      <td>Křeslo Q031</td>\n",
       "    </tr>\n",
       "    <tr>\n",
       "      <th>32</th>\n",
       "      <td>Alba Fuxo S-Line</td>\n",
       "      <td>['Bydlení a doplňky', 'Nábytek', 'Židle a stol...</td>\n",
       "      <td>3796</td>\n",
       "      <td>97.0</td>\n",
       "      <td>Rostoucí židle Fuxo</td>\n",
       "    </tr>\n",
       "  </tbody>\n",
       "</table>\n",
       "</div>"
      ],
      "text/plain": [
       "                    name                                         categories  \\\n",
       "320  Alba Kent Exclusive  ['Bydlení a doplňky', 'Nábytek', 'Židle a stol...   \n",
       "50         Antares Scope  ['Bydlení a doplňky', 'Nábytek', 'Židle a stol...   \n",
       "774        Corping Human  ['Bydlení a doplňky', 'Nábytek', 'Židle a stol...   \n",
       "263           SEDIA Q031  ['Bydlení a doplňky', 'Nábytek', 'Židle a stol...   \n",
       "32      Alba Fuxo S-Line  ['Bydlení a doplňky', 'Nábytek', 'Židle a stol...   \n",
       "\n",
       "     price  rating                                      specification  \n",
       "320   8763   100.0  Elegantní křeslo do kanceláře v základním prov...  \n",
       "50    5990   100.0  \\n\\tDesignová židle s opěrkou hlavy a područka...  \n",
       "774   4299    90.0                                                     \n",
       "263   3890    94.0                                        Křeslo Q031  \n",
       "32    3796    97.0                                Rostoucí židle Fuxo  "
      ]
     },
     "execution_count": 3,
     "metadata": {},
     "output_type": "execute_result"
    }
   ],
   "source": [
    "chairs_df.sample(5)"
   ]
  },
  {
   "cell_type": "code",
   "execution_count": 4,
   "metadata": {},
   "outputs": [
    {
     "data": {
      "text/plain": [
       "name              0\n",
       "categories        0\n",
       "price             0\n",
       "rating           13\n",
       "specification     6\n",
       "dtype: int64"
      ]
     },
     "execution_count": 4,
     "metadata": {},
     "output_type": "execute_result"
    }
   ],
   "source": [
    "chairs_df.isnull().sum()"
   ]
  },
  {
   "cell_type": "code",
   "execution_count": 5,
   "metadata": {},
   "outputs": [],
   "source": [
    "# replace missing values of rating with mean\n",
    "chairs_df['rating'] = chairs_df['rating'].fillna(chairs_df['rating'].mean())"
   ]
  },
  {
   "cell_type": "code",
   "execution_count": 6,
   "metadata": {},
   "outputs": [],
   "source": [
    "# replace missing specification with empty string\n",
    "chairs_df['specification'] = chairs_df['specification'].fillna('')"
   ]
  },
  {
   "cell_type": "code",
   "execution_count": 15,
   "metadata": {},
   "outputs": [],
   "source": [
    "chairs_df['name'] = chairs_df['name'].astype(str)\n",
    "chairs_df['specification'] = chairs_df['specification'].astype(str)"
   ]
  },
  {
   "cell_type": "markdown",
   "metadata": {},
   "source": [
    "## Model"
   ]
  },
  {
   "cell_type": "code",
   "execution_count": 9,
   "metadata": {},
   "outputs": [
    {
     "data": {
      "application/vnd.jupyter.widget-view+json": {
       "model_id": "3a6d400bd77347ccaa09c3f4f42d473c",
       "version_major": 2,
       "version_minor": 0
      },
      "text/plain": [
       "modules.json:   0%|          | 0.00/229 [00:00<?, ?B/s]"
      ]
     },
     "metadata": {},
     "output_type": "display_data"
    },
    {
     "data": {
      "application/vnd.jupyter.widget-view+json": {
       "model_id": "fb3b9e3056d74d12ae5e2f8b85ae6e72",
       "version_major": 2,
       "version_minor": 0
      },
      "text/plain": [
       "config_sentence_transformers.json:   0%|          | 0.00/171 [00:00<?, ?B/s]"
      ]
     },
     "metadata": {},
     "output_type": "display_data"
    },
    {
     "data": {
      "application/vnd.jupyter.widget-view+json": {
       "model_id": "8b542c3596704692b89fea358ab2952a",
       "version_major": 2,
       "version_minor": 0
      },
      "text/plain": [
       "README.md:   0%|          | 0.00/112k [00:00<?, ?B/s]"
      ]
     },
     "metadata": {},
     "output_type": "display_data"
    },
    {
     "data": {
      "application/vnd.jupyter.widget-view+json": {
       "model_id": "86c5e6665d88413a848e6a1487c3024d",
       "version_major": 2,
       "version_minor": 0
      },
      "text/plain": [
       "sentence_bert_config.json:   0%|          | 0.00/53.0 [00:00<?, ?B/s]"
      ]
     },
     "metadata": {},
     "output_type": "display_data"
    },
    {
     "data": {
      "application/vnd.jupyter.widget-view+json": {
       "model_id": "dd897558cba045c096e2108d2c2787b9",
       "version_major": 2,
       "version_minor": 0
      },
      "text/plain": [
       "config.json:   0%|          | 0.00/677 [00:00<?, ?B/s]"
      ]
     },
     "metadata": {},
     "output_type": "display_data"
    },
    {
     "data": {
      "application/vnd.jupyter.widget-view+json": {
       "model_id": "889d8f76cd58472597af6406d3539652",
       "version_major": 2,
       "version_minor": 0
      },
      "text/plain": [
       "model.safetensors:   0%|          | 0.00/670M [00:00<?, ?B/s]"
      ]
     },
     "metadata": {},
     "output_type": "display_data"
    },
    {
     "data": {
      "application/vnd.jupyter.widget-view+json": {
       "model_id": "b96fd34bfe3e426d9382e4ba23958ffd",
       "version_major": 2,
       "version_minor": 0
      },
      "text/plain": [
       "tokenizer_config.json:   0%|          | 0.00/1.24k [00:00<?, ?B/s]"
      ]
     },
     "metadata": {},
     "output_type": "display_data"
    },
    {
     "data": {
      "application/vnd.jupyter.widget-view+json": {
       "model_id": "dedef1d0a12a4e02906a0d353d249528",
       "version_major": 2,
       "version_minor": 0
      },
      "text/plain": [
       "vocab.txt:   0%|          | 0.00/232k [00:00<?, ?B/s]"
      ]
     },
     "metadata": {},
     "output_type": "display_data"
    },
    {
     "data": {
      "application/vnd.jupyter.widget-view+json": {
       "model_id": "799ce75e31cb40fa9fa9f2d6e1ecaddb",
       "version_major": 2,
       "version_minor": 0
      },
      "text/plain": [
       "tokenizer.json:   0%|          | 0.00/711k [00:00<?, ?B/s]"
      ]
     },
     "metadata": {},
     "output_type": "display_data"
    },
    {
     "data": {
      "application/vnd.jupyter.widget-view+json": {
       "model_id": "0c3b80449edd4182af68c5339df54504",
       "version_major": 2,
       "version_minor": 0
      },
      "text/plain": [
       "special_tokens_map.json:   0%|          | 0.00/695 [00:00<?, ?B/s]"
      ]
     },
     "metadata": {},
     "output_type": "display_data"
    },
    {
     "data": {
      "application/vnd.jupyter.widget-view+json": {
       "model_id": "40665e5a2b65419c932df3845aff1303",
       "version_major": 2,
       "version_minor": 0
      },
      "text/plain": [
       "1_Pooling/config.json:   0%|          | 0.00/297 [00:00<?, ?B/s]"
      ]
     },
     "metadata": {},
     "output_type": "display_data"
    }
   ],
   "source": [
    "backbone = 'mixedbread-ai/mxbai-embed-large-v1'\n",
    "model = SentenceTransformer(backbone)"
   ]
  },
  {
   "cell_type": "code",
   "execution_count": 23,
   "metadata": {},
   "outputs": [
    {
     "name": "stdout",
     "output_type": "stream",
     "text": [
      "Docs: ['Jméno: Superkancl Optima, Cena: 2995 Kč, Popis: Kancelářská židle OPTIMA PDH s područkami a podhlavníkem má vše pro pohodlné sezení. Její předností je široký sedák, ten je čalouněný kvalitní prodyšnou látkou. Výplň sedáku je z pěny s vysokou hustotou a odolností proti prosezení. Ani při delším sezení se nekroutí a umožňuje tak optimální komfort sezení. Opěradlo zad s prodyšným potahem ze síťoviny podpírá páteř a díky svému ergonomickému tvaru předchází bolestem zad. Je doplněné o bederní opěrku a zakončené pevným podhlavníkem. Ruce si můžete pohodlně položit na čalouněné područky, které se dají odklopit směrem nahoru. Kancelářskou židli tak snadno zasunete pod stůl. Svojí velikostí je vhodná pro osoby s výškou do 185 cm. Židle má kvalitní houpací mechanismus s nastavením síly houpání, ta se reguluje velkým plastovým šroubem umístěným pod sedákem. Výška sezení se upravuje plynule páčkou. Je použitý kvalitní plynový píst s certifikátem BIFMA Class 3, chromovaný kříž má pogumovaná kolečka o průměru 50 mm pro všechny druhy podlah. Kancelářská židle má nosnost max. 140 kg, záruka 24 měsíců.', 'Jméno: Superkancl Comfortable, Cena: 2995 Kč, Popis: \\n\\tKancelářské křeslo Comfortable s područkami je moderní křeslo s výjimečným polstrováním.\\n\\tJeho hlavní předností je široký a pohodlný sedák. Ergonomicky tvarovaný opěrák je ideální pro správné držení těla bez nepříjemných bolestí zad. Je doplněný o zvýšenou opěrku hlavy.\\n\\tOdolná látka se vzorem \"pepito\" má šedou barvu. Elegantní prošití vypadá fantasticky!\\n\\tKřeslo vám poskytne pohodlné sezení na dlouhé hodiny. Ruce si můžete položit na čalouněné područky, které se dají odklopit směrem nahoru.\\n\\tKřeslo Comfortable má kvalitní houpací mechanismus. Síla houpání se reguluje v závislosti na váze uživatele velkým plastovým šroubem umístěným pod sedákem.\\n\\tSvojí velikostí je vhodné pro osoby s výškou do 185 cm.\\n\\tVýška sezení se upravuje plynule páčkou. Je použitý kvalitní plynový píst s certifikátem Bifma Class 3, kovový kříž má pogumovaná kolečka o průměru 50 mm pro všechny druhy podlah.\\n\\tKřeslo najde své místo v každém interiéru, nebo kanceláři firmy.\\n\\tKancelářské křeslo má nosnost max. 130 kg.', 'Jméno: Superkancl Prezident, Cena: 1585 Kč, Popis: Kancelářské křeslo PREZIDENT Komfort s područkami a vysokým opěrákem. Síťovaný opěrák je potažený černou síťovinou Mesh a zakončený opěrkou hlavy, která je potažena černou koženkou. Pohodlný sedák je čalouněný černou prodyšnou látkou. Ruce si můžete položit na pevné plastové područky, obruče jsou pochromované. Křeslo má kvalitní houpací mechanismus. Síla houpání se reguluje v závislosti na váze uživatele velkým plastovým šroubem umístěným pod sedákem. Svojí velikostí je vhodné pro osoby s výškou do 185 cm. Výška sezení se upravuje plynule páčkou. Je použitý kvalitní plynový píst s certifikátem BIFMA Class 3, kovový kříž má pogumovaná kolečka o průměru 50 mm pro všechny druhy podlah. Moderní křeslo najde své místo v každém interiéru, nebo kanceláři firmy. Kancelářské křeslo má nosnost max. 130 kg, záruka 24 měsíců.', 'Jméno: Superkancl Boss, Cena: 3285 Kč, Popis: Kancelářské křeslo BOSS má pevné područky, ergonomické tvarovaní a nosnost 140 kg. Je určeno všem, kteří potřebují pohodlné křeslo například k PC. Vysoký opěrák křesla je zakončený zvýšenou opěrkou hlavy. Díky tomu poskytne kvalitní oporu v oblasti beder, krční páteře a hlavě. Výplň sedáku je ze studené pěny s vysokou odolností proti slehnutí. Bohaté polstrovaní je zárukou pohodlného sezení, navíc se snadno přizpůsobí lidskému tělu. Křeslo je čalouněno do jemné a odolné eco kůže černé barvy se snadnou údržbou. Prošití vypadá fantasticky! Ruce si můžete pohodlně položit na čalouněné područky. Křeslo BOSS má kvalitní houpací mechanismus. Síla houpání se reguluje v závislosti na váze uživatele velkým plastovým šroubem umístěným pod sedákem. Svojí velikostí je vhodné pro osoby s výškou do 185 cm. Výška sezení se upravuje plynule páčkou. Je použitý kvalitní plynový píst s certifikátem BIFMA Class 3, stříbrný zesílený kříž má kolečka o průměru 50 mm pro všechny druhy podlah. Kancelářské křeslo má nosnost max. 140 kg, záruka 24 měsíců.', 'Jméno: Liftor Active, Cena: 8999 Kč, Popis: Ergonomická kancelářská židle, která se přizpůsobí vašim zádům. Speciální dvoudílná pohyblivá zádová opěrka reaguje na pohyb vašeho těla a aktivně se přizpůsobuje vaší poloze při sezení. Díky tomu vám spolu se synchronním mechanizmem vytvoří zdravé a ergonomické pracovní prostředí.', 'Jméno: Alba Game Šéf VIP, Cena: 7000 Kč, Popis: Kancelářská židle GAME ŠÉF VIP, TB-synchro', 'Jméno: Superkancl Optima, Cena: 2995 Kč, Popis: Kancelářská židle OPTIMA PDH s područkami a podhlavníkem má vše pro pohodlné sezení. Její předností je široký sedák, ten je čalouněný kvalitní prodyšnou látkou. Výplň sedáku je z pěny s vysokou hustotou a odolností proti prosezení. Ani při delším sezení se nekroutí a umožňuje tak optimální komfort sezení. Opěradlo zad s prodyšným potahem ze síťoviny podpírá páteř a díky svému ergonomickému tvaru předchází bolestem zad. Je doplněné o bederní opěrku a zakončené pevným podhlavníkem. Ruce si můžete pohodlně položit na čalouněné područky, které se dají odklopit směrem nahoru. Kancelářskou židli tak snadno zasunete pod stůl. Svojí velikostí je vhodná pro osoby s výškou do 185 cm. Židle má kvalitní houpací mechanismus s nastavením síly houpání, ta se reguluje velkým plastovým šroubem umístěným pod sedákem. Výška sezení se upravuje plynule páčkou. Je použitý kvalitní plynový píst s certifikátem BIFMA Class 3, chromovaný kříž má pogumovaná kolečka o průměru 50 mm pro všechny druhy podlah. Kancelářská židle má nosnost max. 140 kg, záruka 24 měsíců.', 'Jméno: Superkancl FunPDH, Cena: 3395 Kč, Popis: Kancelářská židle FUN PDH s područkami a podhlavníkem je vhodná pro každodenní používání. Její předností je široký sedák, ten je čalouněný kvalitní látkou Bondai s odolností 150 000 cyklů. Výplň sedáku je z pěny s vysokou hustotou a odolností proti prosezení. Ani při delším sezení se nekroutí a umožňuje tak optimální komfort sezení. Opěradlo zad s potahem ze síťoviny podpírá páteř a díky svému ergonomickému tvaru předchází bolestem zad. Je doplněné o výškově stavitelnou bederní opěrku, s možností nastavení hloubky a zakončené 3D podhlavníkem, ten je výškově nastavitelný s naklápěním. Svojí velikostí je židle vhodná pro osoby s výškou do 180 cm. Ruce si můžete pohodlně položit na výškově stavitelné 3D područky s měkkou dotykovou plochou s možností posunutí vpřed, vzad a pootočení – úhlové nastavení. Je použita kvalitní asynchronní mechanika s nastavením síly protiváhy pro dynamické a zdravé sezení. Dále umožňuje změnit sklon židle s aretací v několika polohách. Síla houpání se reguluje v závislosti na váze uživatele velkým plastovým šroubem umístěným pod sedákem. Je použitý kvalitní plynový píst s certifikátem BIFMA Class 3, černý kříž má pogumovaná kolečka o průměru 50 mm pro všechny druhy podlah. Kancelářská židle má nosnost max. 130 kg, záruka 24 měsíců.', 'Jméno: Superkancl Boss, Cena: 3285 Kč, Popis: Kancelářské křeslo BOSS má pevné područky, ergonomické tvarovaní a nosnost 140 kg. Je určeno všem, kteří potřebují pohodlné křeslo například k PC. Vysoký opěrák křesla je zakončený zvýšenou opěrkou hlavy. Díky tomu poskytne kvalitní oporu v oblasti beder, krční páteře a hlavě. Výplň sedáku je ze studené pěny s vysokou odolností proti slehnutí. Bohaté polstrovaní je zárukou pohodlného sezení, navíc se snadno přizpůsobí lidskému tělu. Křeslo je čalouněno do jemné a odolné eco kůže černé barvy se snadnou údržbou. Prošití vypadá fantasticky! Ruce si můžete pohodlně položit na čalouněné područky. Křeslo BOSS má kvalitní houpací mechanismus. Síla houpání se reguluje v závislosti na váze uživatele velkým plastovým šroubem umístěným pod sedákem. Svojí velikostí je vhodné pro osoby s výškou do 185 cm. Výška sezení se upravuje plynule páčkou. Je použitý kvalitní plynový píst s certifikátem BIFMA Class 3, stříbrný zesílený kříž má kolečka o průměru 50 mm pro všechny druhy podlah. Kancelářské křeslo má nosnost max. 140 kg, záruka 24 měsíců.', 'Jméno: Aga MR2075, Cena: 799 Kč, Popis: Kancelářská židle bez podhlavníku, která je vyrobená v černé barvě v kombinaci síťoviny a plastu.']\n",
      "Similarities: tensor([[0.7217, 0.7313, 0.7258, 0.7429, 0.6972, 0.6872, 0.7217, 0.6970, 0.7429,\n",
      "         0.7017]])\n"
     ]
    }
   ],
   "source": [
    "# TEST\n",
    "query = 'křeslo které stojí více než 6000 Kč'\n",
    "query_embedding = model.encode([query])\n",
    "docs = []\n",
    "for i in range(10):\n",
    "    tmp = f'Jméno: {chairs_df[\"name\"].iloc[i]}, Cena: {chairs_df[\"price\"].iloc[i]} Kč, Popis: {chairs_df[\"specification\"].iloc[i]}'\n",
    "    docs.append(tmp)\n",
    "print(f'Docs: {docs}')\n",
    "doc_embeddings = model.encode(docs)\n",
    "\n",
    "similarities = cos_sim(query_embedding[0], doc_embeddings)\n",
    "print(f'Similarities: {similarities}')"
   ]
  },
  {
   "cell_type": "code",
   "execution_count": 13,
   "metadata": {},
   "outputs": [
    {
     "data": {
      "text/plain": [
       "1024"
      ]
     },
     "execution_count": 13,
     "metadata": {},
     "output_type": "execute_result"
    }
   ],
   "source": [
    "len(query_embedding[0])"
   ]
  }
 ],
 "metadata": {
  "kernelspec": {
   "display_name": "kaggle",
   "language": "python",
   "name": "python3"
  },
  "language_info": {
   "codemirror_mode": {
    "name": "ipython",
    "version": 3
   },
   "file_extension": ".py",
   "mimetype": "text/x-python",
   "name": "python",
   "nbconvert_exporter": "python",
   "pygments_lexer": "ipython3",
   "version": "3.9.7"
  }
 },
 "nbformat": 4,
 "nbformat_minor": 2
}
