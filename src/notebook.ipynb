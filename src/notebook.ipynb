{
 "cells": [
  {
   "cell_type": "markdown",
   "metadata": {},
   "source": [
    "# Neural information retrieval"
   ]
  },
  {
   "cell_type": "code",
   "execution_count": 1,
   "metadata": {},
   "outputs": [
    {
     "name": "stderr",
     "output_type": "stream",
     "text": [
      "/home/vojta/anaconda3/envs/kaggle/lib/python3.9/site-packages/pandas/core/computation/expressions.py:21: UserWarning: Pandas requires version '2.8.4' or newer of 'numexpr' (version '2.7.3' currently installed).\n",
      "  from pandas.core.computation.check import NUMEXPR_INSTALLED\n",
      "/home/vojta/anaconda3/envs/kaggle/lib/python3.9/site-packages/scipy/__init__.py:155: UserWarning: A NumPy version >=1.18.5 and <1.26.0 is required for this version of SciPy (detected version 1.26.4\n",
      "  warnings.warn(f\"A NumPy version >={np_minversion} and <{np_maxversion}\"\n"
     ]
    }
   ],
   "source": [
    "import numpy as np\n",
    "import pandas as pd\n",
    "from sentence_transformers import SentenceTransformer\n",
    "from sentence_transformers.util import cos_sim\n",
    "import spacy"
   ]
  },
  {
   "cell_type": "markdown",
   "metadata": {},
   "source": [
    "## EDA"
   ]
  },
  {
   "cell_type": "code",
   "execution_count": 2,
   "metadata": {},
   "outputs": [],
   "source": [
    "chairs_df = pd.read_csv('../data/kancelarska-kresla.heureka.cz.csv')"
   ]
  },
  {
   "cell_type": "code",
   "execution_count": 3,
   "metadata": {},
   "outputs": [
    {
     "data": {
      "text/html": [
       "<div>\n",
       "<style scoped>\n",
       "    .dataframe tbody tr th:only-of-type {\n",
       "        vertical-align: middle;\n",
       "    }\n",
       "\n",
       "    .dataframe tbody tr th {\n",
       "        vertical-align: top;\n",
       "    }\n",
       "\n",
       "    .dataframe thead th {\n",
       "        text-align: right;\n",
       "    }\n",
       "</style>\n",
       "<table border=\"1\" class=\"dataframe\">\n",
       "  <thead>\n",
       "    <tr style=\"text-align: right;\">\n",
       "      <th></th>\n",
       "      <th>name</th>\n",
       "      <th>categories</th>\n",
       "      <th>price</th>\n",
       "      <th>rating</th>\n",
       "      <th>specification</th>\n",
       "    </tr>\n",
       "  </thead>\n",
       "  <tbody>\n",
       "    <tr>\n",
       "      <th>228</th>\n",
       "      <td>Neoseat Kiddy Three</td>\n",
       "      <td>['Bydlení a doplňky', 'Nábytek', 'Židle a stol...</td>\n",
       "      <td>3480</td>\n",
       "      <td>96.0</td>\n",
       "      <td>Dětská rostoucí židle pro školáka s odolným te...</td>\n",
       "    </tr>\n",
       "    <tr>\n",
       "      <th>345</th>\n",
       "      <td>ADK Trade Basic</td>\n",
       "      <td>['Bydlení a doplňky', 'Nábytek', 'Židle a stol...</td>\n",
       "      <td>1490</td>\n",
       "      <td>91.0</td>\n",
       "      <td>Kvalitní kancelářská židle ADK Basic nabízí ne...</td>\n",
       "    </tr>\n",
       "    <tr>\n",
       "      <th>386</th>\n",
       "      <td>Sedia 8 CP</td>\n",
       "      <td>['Bydlení a doplňky', 'Nábytek', 'Židle a stol...</td>\n",
       "      <td>1960</td>\n",
       "      <td>100.0</td>\n",
       "      <td>Nosnost 120kg. Výběr potahu. Výběr provedení.</td>\n",
       "    </tr>\n",
       "    <tr>\n",
       "      <th>380</th>\n",
       "      <td>Casaria 100937</td>\n",
       "      <td>['Bydlení a doplňky', 'Nábytek', 'Židle a stol...</td>\n",
       "      <td>1750</td>\n",
       "      <td>97.0</td>\n",
       "      <td>Sezení, které šetří záda díky ergonomicky tvar...</td>\n",
       "    </tr>\n",
       "    <tr>\n",
       "      <th>701</th>\n",
       "      <td>Rauman Soren</td>\n",
       "      <td>['Bydlení a doplňky', 'Nábytek', 'Židle a stol...</td>\n",
       "      <td>10889</td>\n",
       "      <td>97.0</td>\n",
       "      <td>Kancelářská židle Soren Židle Soren si zaslouž...</td>\n",
       "    </tr>\n",
       "  </tbody>\n",
       "</table>\n",
       "</div>"
      ],
      "text/plain": [
       "                    name                                         categories  \\\n",
       "228  Neoseat Kiddy Three  ['Bydlení a doplňky', 'Nábytek', 'Židle a stol...   \n",
       "345      ADK Trade Basic  ['Bydlení a doplňky', 'Nábytek', 'Židle a stol...   \n",
       "386           Sedia 8 CP  ['Bydlení a doplňky', 'Nábytek', 'Židle a stol...   \n",
       "380       Casaria 100937  ['Bydlení a doplňky', 'Nábytek', 'Židle a stol...   \n",
       "701         Rauman Soren  ['Bydlení a doplňky', 'Nábytek', 'Židle a stol...   \n",
       "\n",
       "     price  rating                                      specification  \n",
       "228   3480    96.0  Dětská rostoucí židle pro školáka s odolným te...  \n",
       "345   1490    91.0  Kvalitní kancelářská židle ADK Basic nabízí ne...  \n",
       "386   1960   100.0      Nosnost 120kg. Výběr potahu. Výběr provedení.  \n",
       "380   1750    97.0  Sezení, které šetří záda díky ergonomicky tvar...  \n",
       "701  10889    97.0  Kancelářská židle Soren Židle Soren si zaslouž...  "
      ]
     },
     "execution_count": 3,
     "metadata": {},
     "output_type": "execute_result"
    }
   ],
   "source": [
    "chairs_df.sample(5)"
   ]
  },
  {
   "cell_type": "code",
   "execution_count": 4,
   "metadata": {},
   "outputs": [
    {
     "data": {
      "text/plain": [
       "name              0\n",
       "categories        0\n",
       "price             0\n",
       "rating           13\n",
       "specification     6\n",
       "dtype: int64"
      ]
     },
     "execution_count": 4,
     "metadata": {},
     "output_type": "execute_result"
    }
   ],
   "source": [
    "chairs_df.isnull().sum()"
   ]
  },
  {
   "cell_type": "code",
   "execution_count": 5,
   "metadata": {},
   "outputs": [],
   "source": [
    "# replace missing values of rating with mean\n",
    "chairs_df['rating'] = chairs_df['rating'].fillna(chairs_df['rating'].mean())"
   ]
  },
  {
   "cell_type": "code",
   "execution_count": 6,
   "metadata": {},
   "outputs": [],
   "source": [
    "# replace missing specification with empty string\n",
    "chairs_df['specification'] = chairs_df['specification'].fillna('')"
   ]
  },
  {
   "cell_type": "code",
   "execution_count": 7,
   "metadata": {},
   "outputs": [],
   "source": [
    "chairs_df['name'] = chairs_df['name'].astype(str)\n",
    "chairs_df['specification'] = chairs_df['specification'].astype(str)"
   ]
  },
  {
   "cell_type": "markdown",
   "metadata": {},
   "source": [
    "## Model"
   ]
  },
  {
   "cell_type": "code",
   "execution_count": 19,
   "metadata": {},
   "outputs": [],
   "source": [
    "def transform_query(query: str) -> str:\n",
    "    '''\n",
    "    Transforms query into a form that can be used for searching relevant passages.\n",
    "\n",
    "    Args:\n",
    "    query: str: query string\n",
    "\n",
    "    Returns:\n",
    "    str: transformed query string\n",
    "    '''\n",
    "    return f'Represent this sentence for searching relevant passages: {query}'\n",
    "\n",
    "backbone = 'mixedbread-ai/mxbai-embed-large-v1'\n",
    "model = SentenceTransformer(backbone)"
   ]
  },
  {
   "cell_type": "code",
   "execution_count": 20,
   "metadata": {},
   "outputs": [
    {
     "name": "stdout",
     "output_type": "stream",
     "text": [
      "Docs: ['Represent this sentence for searching relevant passages: Ergonomické křeslo.', 'Jméno: Superkancl Optima ### Cena: cheap ### Popis: Kancelářská židle OPTIMA PDH s područkami a podhlavníkem má vše pro pohodlné sezení. Její předností je široký sedák, ten je čalouněný kvalitní prodyšnou látkou. Výplň sedáku je z pěny s vysokou hustotou a odolností proti prosezení. Ani při delším sezení se nekroutí a umožňuje tak optimální komfort sezení. Opěradlo zad s prodyšným potahem ze síťoviny podpírá páteř a díky svému ergonomickému tvaru předchází bolestem zad. Je doplněné o bederní opěrku a zakončené pevným podhlavníkem. Ruce si můžete pohodlně položit na čalouněné područky, které se dají odklopit směrem nahoru. Kancelářskou židli tak snadno zasunete pod stůl. Svojí velikostí je vhodná pro osoby s výškou do 185 cm. Židle má kvalitní houpací mechanismus s nastavením síly houpání, ta se reguluje velkým plastovým šroubem umístěným pod sedákem. Výška sezení se upravuje plynule páčkou. Je použitý kvalitní plynový píst s certifikátem BIFMA Class 3, chromovaný kříž má pogumovaná kolečka o průměru 50 mm pro všechny druhy podlah. Kancelářská židle má nosnost max. 140 kg, záruka 24 měsíců.', 'Jméno: Superkancl Comfortable ### Cena: cheap ### Popis: \\n\\tKancelářské křeslo Comfortable s područkami je moderní křeslo s výjimečným polstrováním.\\n\\tJeho hlavní předností je široký a pohodlný sedák. Ergonomicky tvarovaný opěrák je ideální pro správné držení těla bez nepříjemných bolestí zad. Je doplněný o zvýšenou opěrku hlavy.\\n\\tOdolná látka se vzorem \"pepito\" má šedou barvu. Elegantní prošití vypadá fantasticky!\\n\\tKřeslo vám poskytne pohodlné sezení na dlouhé hodiny. Ruce si můžete položit na čalouněné područky, které se dají odklopit směrem nahoru.\\n\\tKřeslo Comfortable má kvalitní houpací mechanismus. Síla houpání se reguluje v závislosti na váze uživatele velkým plastovým šroubem umístěným pod sedákem.\\n\\tSvojí velikostí je vhodné pro osoby s výškou do 185 cm.\\n\\tVýška sezení se upravuje plynule páčkou. Je použitý kvalitní plynový píst s certifikátem Bifma Class 3, kovový kříž má pogumovaná kolečka o průměru 50 mm pro všechny druhy podlah.\\n\\tKřeslo najde své místo v každém interiéru, nebo kanceláři firmy.\\n\\tKancelářské křeslo má nosnost max. 130 kg.', 'Jméno: Superkancl Prezident ### Cena: cheap ### Popis: Kancelářské křeslo PREZIDENT Komfort s područkami a vysokým opěrákem. Síťovaný opěrák je potažený černou síťovinou Mesh a zakončený opěrkou hlavy, která je potažena černou koženkou. Pohodlný sedák je čalouněný černou prodyšnou látkou. Ruce si můžete položit na pevné plastové područky, obruče jsou pochromované. Křeslo má kvalitní houpací mechanismus. Síla houpání se reguluje v závislosti na váze uživatele velkým plastovým šroubem umístěným pod sedákem. Svojí velikostí je vhodné pro osoby s výškou do 185 cm. Výška sezení se upravuje plynule páčkou. Je použitý kvalitní plynový píst s certifikátem BIFMA Class 3, kovový kříž má pogumovaná kolečka o průměru 50 mm pro všechny druhy podlah. Moderní křeslo najde své místo v každém interiéru, nebo kanceláři firmy. Kancelářské křeslo má nosnost max. 130 kg, záruka 24 měsíců.', 'Jméno: Superkancl Boss ### Cena: cheap ### Popis: Kancelářské křeslo BOSS má pevné područky, ergonomické tvarovaní a nosnost 140 kg. Je určeno všem, kteří potřebují pohodlné křeslo například k PC. Vysoký opěrák křesla je zakončený zvýšenou opěrkou hlavy. Díky tomu poskytne kvalitní oporu v oblasti beder, krční páteře a hlavě. Výplň sedáku je ze studené pěny s vysokou odolností proti slehnutí. Bohaté polstrovaní je zárukou pohodlného sezení, navíc se snadno přizpůsobí lidskému tělu. Křeslo je čalouněno do jemné a odolné eco kůže černé barvy se snadnou údržbou. Prošití vypadá fantasticky! Ruce si můžete pohodlně položit na čalouněné područky. Křeslo BOSS má kvalitní houpací mechanismus. Síla houpání se reguluje v závislosti na váze uživatele velkým plastovým šroubem umístěným pod sedákem. Svojí velikostí je vhodné pro osoby s výškou do 185 cm. Výška sezení se upravuje plynule páčkou. Je použitý kvalitní plynový píst s certifikátem BIFMA Class 3, stříbrný zesílený kříž má kolečka o průměru 50 mm pro všechny druhy podlah. Kancelářské křeslo má nosnost max. 140 kg, záruka 24 měsíců.', 'Jméno: Liftor Active ### Cena: expensive ### Popis: Ergonomická kancelářská židle, která se přizpůsobí vašim zádům. Speciální dvoudílná pohyblivá zádová opěrka reaguje na pohyb vašeho těla a aktivně se přizpůsobuje vaší poloze při sezení. Díky tomu vám spolu se synchronním mechanizmem vytvoří zdravé a ergonomické pracovní prostředí.', 'Jméno: Alba Game Šéf VIP ### Cena: expensive ### Popis: Kancelářská židle GAME ŠÉF VIP, TB-synchro', 'Jméno: Superkancl Optima ### Cena: cheap ### Popis: Kancelářská židle OPTIMA PDH s područkami a podhlavníkem má vše pro pohodlné sezení. Její předností je široký sedák, ten je čalouněný kvalitní prodyšnou látkou. Výplň sedáku je z pěny s vysokou hustotou a odolností proti prosezení. Ani při delším sezení se nekroutí a umožňuje tak optimální komfort sezení. Opěradlo zad s prodyšným potahem ze síťoviny podpírá páteř a díky svému ergonomickému tvaru předchází bolestem zad. Je doplněné o bederní opěrku a zakončené pevným podhlavníkem. Ruce si můžete pohodlně položit na čalouněné područky, které se dají odklopit směrem nahoru. Kancelářskou židli tak snadno zasunete pod stůl. Svojí velikostí je vhodná pro osoby s výškou do 185 cm. Židle má kvalitní houpací mechanismus s nastavením síly houpání, ta se reguluje velkým plastovým šroubem umístěným pod sedákem. Výška sezení se upravuje plynule páčkou. Je použitý kvalitní plynový píst s certifikátem BIFMA Class 3, chromovaný kříž má pogumovaná kolečka o průměru 50 mm pro všechny druhy podlah. Kancelářská židle má nosnost max. 140 kg, záruka 24 měsíců.', 'Jméno: Superkancl FunPDH ### Cena: cheap ### Popis: Kancelářská židle FUN PDH s područkami a podhlavníkem je vhodná pro každodenní používání. Její předností je široký sedák, ten je čalouněný kvalitní látkou Bondai s odolností 150 000 cyklů. Výplň sedáku je z pěny s vysokou hustotou a odolností proti prosezení. Ani při delším sezení se nekroutí a umožňuje tak optimální komfort sezení. Opěradlo zad s potahem ze síťoviny podpírá páteř a díky svému ergonomickému tvaru předchází bolestem zad. Je doplněné o výškově stavitelnou bederní opěrku, s možností nastavení hloubky a zakončené 3D podhlavníkem, ten je výškově nastavitelný s naklápěním. Svojí velikostí je židle vhodná pro osoby s výškou do 180 cm. Ruce si můžete pohodlně položit na výškově stavitelné 3D područky s měkkou dotykovou plochou s možností posunutí vpřed, vzad a pootočení – úhlové nastavení. Je použita kvalitní asynchronní mechanika s nastavením síly protiváhy pro dynamické a zdravé sezení. Dále umožňuje změnit sklon židle s aretací v několika polohách. Síla houpání se reguluje v závislosti na váze uživatele velkým plastovým šroubem umístěným pod sedákem. Je použitý kvalitní plynový píst s certifikátem BIFMA Class 3, černý kříž má pogumovaná kolečka o průměru 50 mm pro všechny druhy podlah. Kancelářská židle má nosnost max. 130 kg, záruka 24 měsíců.', 'Jméno: Superkancl Boss ### Cena: cheap ### Popis: Kancelářské křeslo BOSS má pevné područky, ergonomické tvarovaní a nosnost 140 kg. Je určeno všem, kteří potřebují pohodlné křeslo například k PC. Vysoký opěrák křesla je zakončený zvýšenou opěrkou hlavy. Díky tomu poskytne kvalitní oporu v oblasti beder, krční páteře a hlavě. Výplň sedáku je ze studené pěny s vysokou odolností proti slehnutí. Bohaté polstrovaní je zárukou pohodlného sezení, navíc se snadno přizpůsobí lidskému tělu. Křeslo je čalouněno do jemné a odolné eco kůže černé barvy se snadnou údržbou. Prošití vypadá fantasticky! Ruce si můžete pohodlně položit na čalouněné područky. Křeslo BOSS má kvalitní houpací mechanismus. Síla houpání se reguluje v závislosti na váze uživatele velkým plastovým šroubem umístěným pod sedákem. Svojí velikostí je vhodné pro osoby s výškou do 185 cm. Výška sezení se upravuje plynule páčkou. Je použitý kvalitní plynový píst s certifikátem BIFMA Class 3, stříbrný zesílený kříž má kolečka o průměru 50 mm pro všechny druhy podlah. Kancelářské křeslo má nosnost max. 140 kg, záruka 24 měsíců.', 'Jméno: Aga MR2075 ### Cena: very cheap ### Popis: Kancelářská židle bez podhlavníku, která je vyrobená v černé barvě v kombinaci síťoviny a plastu.']\n",
      "similarities: tensor([[0.7198, 0.7574, 0.6835, 0.7358, 0.7551, 0.5473, 0.7198, 0.7235, 0.7358,\n",
      "         0.6390]])\n"
     ]
    }
   ],
   "source": [
    "query = 'Ergonomické křeslo.'\n",
    "query = transform_query(query)\n",
    "docs = [query]\n",
    "sep_token = '###'\n",
    "\n",
    "for i in range(10):\n",
    "    price = chairs_df[\"price\"].iloc[i]\n",
    "    price_cat = ''\n",
    "    if price <= 1000:\n",
    "        price_cat = 'very cheap'\n",
    "    elif price <= 5000:\n",
    "        price_cat = 'cheap'\n",
    "    elif price <= 10000:\n",
    "        price_cat = 'expensive'\n",
    "    else:\n",
    "        price_cat = 'very expensive'\n",
    "    tmp = f'Jméno: {chairs_df[\"name\"].iloc[i]} {sep_token} Cena: {price_cat} {sep_token} Popis: {chairs_df[\"specification\"].iloc[i]}'\n",
    "    docs.append(tmp)\n",
    "\n",
    "print(f'Docs: {docs}')\n",
    "\n",
    "embeddings = model.encode(docs)\n",
    "\n",
    "similarities = cos_sim(embeddings[0], embeddings[1:])\n",
    "print('similarities:', similarities)"
   ]
  },
  {
   "cell_type": "code",
   "execution_count": 21,
   "metadata": {},
   "outputs": [
    {
     "data": {
      "text/plain": [
       "numpy.ndarray"
      ]
     },
     "execution_count": 21,
     "metadata": {},
     "output_type": "execute_result"
    }
   ],
   "source": [
    "type(embeddings)"
   ]
  },
  {
   "cell_type": "markdown",
   "metadata": {},
   "source": [
    "## SpaCy testing"
   ]
  },
  {
   "cell_type": "code",
   "execution_count": 18,
   "metadata": {},
   "outputs": [
    {
     "name": "stdout",
     "output_type": "stream",
     "text": [
      "[('Křeslo', 'LOC')]\n"
     ]
    }
   ],
   "source": []
  }
 ],
 "metadata": {
  "kernelspec": {
   "display_name": "kaggle",
   "language": "python",
   "name": "python3"
  },
  "language_info": {
   "codemirror_mode": {
    "name": "ipython",
    "version": 3
   },
   "file_extension": ".py",
   "mimetype": "text/x-python",
   "name": "python",
   "nbconvert_exporter": "python",
   "pygments_lexer": "ipython3",
   "version": "3.9.7"
  }
 },
 "nbformat": 4,
 "nbformat_minor": 2
}
